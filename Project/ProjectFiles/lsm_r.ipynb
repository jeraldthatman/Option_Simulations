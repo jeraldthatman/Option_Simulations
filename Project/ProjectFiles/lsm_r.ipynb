{
 "cells": [
  {
   "cell_type": "code",
   "execution_count": 2,
   "metadata": {
    "vscode": {
     "languageId": "r"
    }
   },
   "outputs": [],
   "source": [
    "library(LSMRealOptions)\n",
    "set.seed(1)"
   ]
  },
  {
   "cell_type": "code",
   "execution_count": 37,
   "metadata": {
    "vscode": {
     "languageId": "r"
    }
   },
   "outputs": [
    {
     "data": {
      "text/html": [
       "4.3063855722153"
      ],
      "text/latex": [
       "4.3063855722153"
      ],
      "text/markdown": [
       "4.3063855722153"
      ],
      "text/plain": [
       "[1] 4.306386"
      ]
     },
     "metadata": {},
     "output_type": "display_data"
    }
   ],
   "source": [
    "N = 10000 # number of paths \n",
    "R = 0.03454\n",
    "S0 = 413.90\n",
    "K = 410\n",
    "days = 1\n",
    "sigma = 0.1560\n",
    "type = 'call'\n",
    "T = days/252 \n",
    "dt = .5/252 # exercise opportunites per year\n",
    "\n",
    "\n",
    "# Simulate the stock price\n",
    "S = GBM_simulate(n = N, t = T, mu = R, sigma = sigma, S0 = S0, dt = dt)\n",
    "\n",
    "# Calculate the option price\n",
    "LSM_american_option(state_variables = S, payoff = S, K = K, dt = T, rf = R, call = TRUE)\n"
   ]
  },
  {
   "cell_type": "code",
   "execution_count": 42,
   "metadata": {
    "vscode": {
     "languageId": "r"
    }
   },
   "outputs": [
    {
     "data": {
      "text/html": [
       "1.1700221319909"
      ],
      "text/latex": [
       "1.1700221319909"
      ],
      "text/markdown": [
       "1.1700221319909"
      ],
      "text/plain": [
       "[1] 1.170022"
      ]
     },
     "metadata": {},
     "output_type": "display_data"
    }
   ],
   "source": [
    "N = 1000\n",
    "R = 0.03602\n",
    "S0 = 414.60\n",
    "K = 410\n",
    "days = 5\n",
    "sigma = 0.1274\n",
    "type = 'put'\n",
    "T = days/252\n",
    "dt = .5/252\n",
    "\n",
    "# Simulate the stock price\n",
    "S = GBM_simulate(n = N, t = T, mu = R, sigma = sigma, S0 = S0, dt = dt)\n",
    "\n",
    "# Calculate the option price\n",
    "LSM_american_option(state_variables = S, payoff = S, K = K, dt = T, rf = R, call = FALSE)"
   ]
  },
  {
   "cell_type": "code",
   "execution_count": null,
   "metadata": {
    "vscode": {
     "languageId": "r"
    }
   },
   "outputs": [],
   "source": []
  }
 ],
 "metadata": {
  "kernelspec": {
   "display_name": "R",
   "language": "R",
   "name": "ir"
  },
  "language_info": {
   "codemirror_mode": "r",
   "file_extension": ".r",
   "mimetype": "text/x-r-source",
   "name": "R",
   "pygments_lexer": "r",
   "version": "4.2.0"
  },
  "orig_nbformat": 4
 },
 "nbformat": 4,
 "nbformat_minor": 2
}
