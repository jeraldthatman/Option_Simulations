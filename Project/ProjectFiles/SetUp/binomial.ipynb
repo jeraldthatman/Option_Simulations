{
 "cells": [
  {
   "attachments": {},
   "cell_type": "markdown",
   "metadata": {},
   "source": [
    "## Simple Implementation of Binomial Option Pricing Model (Cox, Ross, Rubinstein 1979)"
   ]
  },
  {
   "cell_type": "code",
   "execution_count": 1,
   "metadata": {},
   "outputs": [],
   "source": [
    "# Binomial Model \n",
    "\n",
    "import numpy as np\n",
    "from numpy.polynomial import Polynomial\n",
    "\n",
    "\n",
    "\n",
    "class BinomialModel:\n",
    "    \"\"\"Simple implementation of Binomial Model (Cox, Ross, Rubinstein 1979)\n",
    "    for testing purposes.\"\"\"\n",
    "\n",
    "    def __init__(self, u, d, r, S0, T, n):\n",
    "        self.u = u\n",
    "        self.d = d\n",
    "        self.r = r\n",
    "        self.S0 = S0\n",
    "        self.T = T\n",
    "        self.n = n\n",
    "        self.ST = np.array(list(self.terminal()), dtype=\"float64\")\n",
    "\n",
    "    def __repr__(self):\n",
    "        return type(\n",
    "            self\n",
    "        ).__name__ + \"(u={u}, d={d}, r={r}, S0={S0}, T={T}, n={n})\".format_map(\n",
    "            vars(self)\n",
    "        )\n",
    "\n",
    "    @property\n",
    "    def dt(self):\n",
    "        return self.T / self.n\n",
    "\n",
    "    @property\n",
    "    def q(self):\n",
    "        return (np.exp(self.r * self.dt) - self.d) / (self.u - self.d)\n",
    "\n",
    "    def terminal(self):\n",
    "        S0, u, d, n = self.S0, self.u, self.d, self.n\n",
    "        for ups in range(n + 1):\n",
    "            yield S0 * u**ups * d ** (n - ups)\n",
    "\n",
    "    def evaluate(self, payoff):\n",
    "        v = payoff(self.ST)\n",
    "        q = self.q\n",
    "        while len(v) > 1:\n",
    "            v = v[1:] * q + v[:-1] * (1 - q)\n",
    "        return v[0] * np.exp(-self.r * self.T)\n",
    "\n",
    "    def evaluate_american_exercisable_iter(self, payoff):\n",
    "        df = np.exp(-self.r * self.dt)\n",
    "        continuation = payoff(self.ST)\n",
    "        spot = self.ST\n",
    "        q = self.q\n",
    "        while len(continuation) > 1:\n",
    "            continuation = df * (continuation[1:] * q + continuation[:-1] * (1 - q))\n",
    "            spot = df * (spot[1:] * q + spot[:-1] * (1 - q))\n",
    "            exercise = payoff(spot)\n",
    "            optimal = np.maximum(continuation, exercise)\n",
    "            yield continuation, spot, exercise, optimal\n",
    "            continuation = optimal\n",
    "\n",
    "    def evaluate_american_exercisable(self, payoff):\n",
    "        for _, _, _, opt in self.evaluate_american_exercisable_iter(payoff):\n",
    "            pass\n",
    "        return opt[0]\n",
    "\n",
    "\n",
    "def create_binomial_model(sigma, r, S0, T, n=10):\n",
    "    u = np.exp(sigma * np.sqrt(T / n))\n",
    "    return BinomialModel(u, 1 / u, r, S0, T, n)\n",
    "\n",
    "\n",
    "def call_payoff(strike):\n",
    "    return lambda S: np.maximum(S - strike, 0)\n",
    "\n",
    "\n",
    "def put_payoff(strike):\n",
    "    return lambda S: np.maximum(strike - S, 0)\n",
    "\n",
    "\n",
    "def european_call_price(mdl, strike):\n",
    "    return mdl.evaluate(call_payoff(strike))\n",
    "\n",
    "\n",
    "def american_call_price(mdl, strike):\n",
    "    return mdl.evaluate_american_exercisable(call_payoff(strike))\n",
    "\n",
    "\n",
    "def european_put_price(mdl, strike):\n",
    "    return mdl.evaluate(put_payoff(strike))\n",
    "\n",
    "\n",
    "def american_put_price(mdl, strike):\n",
    "    return mdl.evaluate_american_exercisable(put_payoff(strike))\n",
    "\n",
    "\n",
    "def american_put_exercise_barrier(mdl, strike):\n",
    "    exercises = []\n",
    "    payoff = put_payoff(strike)\n",
    "    for cnt, s, ex, opt in mdl.evaluate_american_exercisable_iter(payoff):\n",
    "        ex_idx = (ex >= cnt) & (ex > 0)\n",
    "        ex_spots = s[ex_idx]\n",
    "        exercises.append(ex_spots.max() if ex_idx.any() else np.nan)\n",
    "    exercises.reverse()\n",
    "    return np.array(exercises)\n",
    "\n",
    "\n",
    "def american_put_exercise_barrier_fitted(mdl, strike, degree=4):\n",
    "    barrier = american_put_exercise_barrier(mdl, strike)\n",
    "    t = np.linspace(0, mdl.T, mdl.n)\n",
    "    ex_exists = ~np.isnan(barrier)\n",
    "    return Polynomial.fit(t[ex_exists], barrier[ex_exists], degree)"
   ]
  },
  {
   "cell_type": "code",
   "execution_count": 3,
   "metadata": {},
   "outputs": [
    {
     "data": {
      "text/plain": [
       "766386.6573592064"
      ]
     },
     "execution_count": 3,
     "metadata": {},
     "output_type": "execute_result"
    },
    {
     "data": {
      "image/png": "[encoded data removed]",
      "text/plain": [
       "<Figure size 432x288 with 1 Axes>"
      ]
     },
     "metadata": {
      "needs_background": "light"
     },
     "output_type": "display_data"
    }
   ],
   "source": [
    "import numpy as np\n",
    "from numpy.polynomial import Polynomial\n",
    "import matplotlib.pyplot as plt\n",
    "from ipywidgets import interact\n",
    "\n",
    "mdl = create_binomial_model(sigma=0.4, r=1e-14, S0=100, T=5, n=100)\n",
    "exercise_barrier = american_put_exercise_barrier(mdl, 100)\n",
    "plt.plot(exercise_barrier)\n",
    "mdl.ST.max()"
   ]
  },
  {
   "cell_type": "code",
   "execution_count": 7,
   "metadata": {},
   "outputs": [],
   "source": [
    "# @interact(r=(-0.02, 0.1, 0.000000001))\n",
    "# def p(r=0.00000000000001):\n",
    "#     mdl = create_binomial_model(sigma=0.4, r=r, S0=100, T=5, n=10)\n",
    "#     print(american_put_price(mdl, 100))\n",
    "#     exercise_barrier = american_put_exercise_barrier(mdl, 100)\n",
    "#     plt.plot(exercise_barrier)"
   ]
  },
  {
   "cell_type": "code",
   "execution_count": 11,
   "metadata": {},
   "outputs": [
    {
     "data": {
      "image/png": "[encoded data removed]",
      "text/plain": [
       "<Figure size 432x288 with 1 Axes>"
      ]
     },
     "metadata": {
      "needs_background": "light"
     },
     "output_type": "display_data"
    }
   ],
   "source": [
    "\n",
    "n = 150\n",
    "mdl = create_binomial_model(sigma=0.2, r=1e-14, S0=100, T=5, n=n)\n",
    "exercise_barrier = american_put_exercise_barrier(mdl, 100)\n",
    "tau = np.linspace(0, 5, n)\n",
    "ex_exists = ~np.isnan(exercise_barrier)\n",
    "fitted = Polynomial.fit(tau[ex_exists], exercise_barrier[ex_exists], 2)\n",
    "\n",
    "\n",
    "exercise_barrier = american_put_exercise_barrier(mdl, 100)\n",
    "tau = np.linspace(0, 5, n)\n",
    "ex_exists = ~np.isnan(exercise_barrier)\n",
    "plt.plot(tau, exercise_barrier)\n",
    "for i in range(1, 4):\n",
    "    b = american_put_exercise_barrier_fitted(mdl, 100, i)\n",
    "    plt.plot(*b.linspace())\n",
    "plt.legend(\n",
    "    [\n",
    "        \"Binom. Exercise Barrier\",\n",
    "        \"Degree 1 approx.\",\n",
    "        \"Degree 2 approx.\",\n",
    "        \"Degree 3 approx.\",\n",
    "    ]\n",
    ");"
   ]
  },
  {
   "cell_type": "code",
   "execution_count": null,
   "metadata": {},
   "outputs": [],
   "source": []
  }
 ],
 "metadata": {
  "kernelspec": {
   "display_name": "Python 3",
   "language": "python",
   "name": "python3"
  },
  "language_info": {
   "codemirror_mode": {
    "name": "ipython",
    "version": 3
   },
   "file_extension": ".py",
   "mimetype": "text/x-python",
   "name": "python",
   "nbconvert_exporter": "python",
   "pygments_lexer": "ipython3",
   "version": "3.9.13"
  },
  "orig_nbformat": 4
 },
 "nbformat": 4,
 "nbformat_minor": 2
}
